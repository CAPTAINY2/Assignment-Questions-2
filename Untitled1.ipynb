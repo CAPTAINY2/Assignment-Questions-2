{
  "nbformat": 4,
  "nbformat_minor": 0,
  "metadata": {
    "colab": {
      "provenance": [],
      "toc_visible": true,
      "authorship_tag": "ABX9TyPWoXb/2RO5/UO9Z4DmxH7Q",
      "include_colab_link": true
    },
    "kernelspec": {
      "name": "python3",
      "display_name": "Python 3"
    },
    "language_info": {
      "name": "python"
    }
  },
  "cells": [
    {
      "cell_type": "markdown",
      "metadata": {
        "id": "view-in-github",
        "colab_type": "text"
      },
      "source": [
        "<a href=\"https://colab.research.google.com/github/CAPTAINY2/Assignment-Questions-2/blob/main/Untitled1.ipynb\" target=\"_parent\"><img src=\"https://colab.research.google.com/assets/colab-badge.svg\" alt=\"Open In Colab\"/></a>"
      ]
    },
    {
      "cell_type": "markdown",
      "source": [
        "### QUESTION-1"
      ],
      "metadata": {
        "id": "US_7pjE2eL_9"
      }
    },
    {
      "cell_type": "code",
      "execution_count": null,
      "metadata": {
        "colab": {
          "base_uri": "https://localhost:8080/"
        },
        "id": "aSCpK26Odfud",
        "outputId": "0d6c313b-1e7e-4388-cbcf-617cd20c082f"
      },
      "outputs": [
        {
          "output_type": "stream",
          "name": "stdout",
          "text": [
            "Outout: 4\n"
          ]
        }
      ],
      "source": [
        "num = [1,4,3,2]\n",
        "\n",
        "def Pair(num):\n",
        "    num.sort()\n",
        "    max_sum = 0\n",
        "    for i in range(0, len(num), 2):\n",
        "        max_sum += num[i]\n",
        "    return max_sum\n",
        "\n",
        "print(f\"Outout: {Pair(num)}\")"
      ]
    },
    {
      "cell_type": "markdown",
      "source": [
        "### QUESTION-2"
      ],
      "metadata": {
        "id": "4oWFzPZ7p836"
      }
    },
    {
      "cell_type": "code",
      "source": [
        "a= [1, 1, 2, 2, 3, 3]\n",
        "\n",
        "def Candies(a):\n",
        "    U_Candies = set()\n",
        "    for i in a:\n",
        "        U_Candies.add(i)\n",
        "        if len(U_Candies) > len(a) // 2:\n",
        "            return len(U_Candies)\n",
        "\n",
        "print(f\"Output: {Candies(a)}\")\n"
      ],
      "metadata": {
        "colab": {
          "base_uri": "https://localhost:8080/"
        },
        "id": "1kx6U4WyiMba",
        "outputId": "7b0d103b-9245-4a14-d2e2-21a023b7ceda"
      },
      "execution_count": null,
      "outputs": [
        {
          "output_type": "stream",
          "name": "stdout",
          "text": [
            "Output: None\n"
          ]
        }
      ]
    },
    {
      "cell_type": "markdown",
      "source": [
        "### QUESTION-3"
      ],
      "metadata": {
        "id": "LuT9c8MJuCmB"
      }
    },
    {
      "cell_type": "code",
      "source": [
        "def LongNum(nums):\n",
        "    f = {}\n",
        "    for i in nums:\n",
        "        f[i] = f.get(i, 0) + 1\n",
        "\n",
        "    MaxNum = 0\n",
        "    for i in f:\n",
        "        if i + 1 in f:\n",
        "            length = f[i] + f[i + 1]\n",
        "            if length > MaxNum:\n",
        "                MaxNum = length\n",
        "\n",
        "    return MaxNum\n",
        "\n",
        "nums = [1,3,2,2,5,2,3,7]\n",
        "print(f\"Input: nums=[1,3,2,2,5,2,3,7]\")\n",
        "print(f\"Output: {LongNum(nums)}\")\n"
      ],
      "metadata": {
        "colab": {
          "base_uri": "https://localhost:8080/"
        },
        "id": "Ks0g8mkdohG2",
        "outputId": "10ab35c7-c8bd-47fe-b06c-eb6578de8d0d"
      },
      "execution_count": null,
      "outputs": [
        {
          "output_type": "stream",
          "name": "stdout",
          "text": [
            "Input: nums=[1,3,2,2,5,2,3,7]\n",
            "Output: 5\n"
          ]
        }
      ]
    },
    {
      "cell_type": "markdown",
      "source": [
        "### QUESTION-4"
      ],
      "metadata": {
        "id": "dmFlPh3Efr7p"
      }
    },
    {
      "cell_type": "code",
      "source": [
        "flowerbed = [1, 0, 0, 0, 1]\n",
        "\n",
        "def flower(flowerbed, n):\n",
        "    n=1\n",
        "    count = 0\n",
        "    length = len(flowerbed)\n",
        "    for i in range(length):\n",
        "        if (\n",
        "            flowerbed[i] == 0 and\n",
        "            (i == 0 or flowerbed[i - 1] == 0) and\n",
        "            (i == length - 1 or flowerbed[i + 1] == 0)\n",
        "        ):\n",
        "            flowerbed[i] = 1\n",
        "            count += 1\n",
        "            if count >= n:\n",
        "                return True\n",
        "    return False\n",
        "\n",
        "print(flower(flowerbed, n))\n"
      ],
      "metadata": {
        "colab": {
          "base_uri": "https://localhost:8080/"
        },
        "id": "EUJwfgr6uLy_",
        "outputId": "dbc6d82e-71f5-487d-ab47-a20439d9b026"
      },
      "execution_count": null,
      "outputs": [
        {
          "output_type": "stream",
          "name": "stdout",
          "text": [
            "True\n"
          ]
        }
      ]
    },
    {
      "cell_type": "markdown",
      "source": [
        "### QUESTION-5"
      ],
      "metadata": {
        "id": "454txs47fxHb"
      }
    },
    {
      "cell_type": "code",
      "source": [
        "nums = [1, 2, 3]\n",
        "\n",
        "def Max_Product(nums):\n",
        "    nums.sort(reverse=True)\n",
        "    return nums[0] * nums[1] * nums[2]\n",
        "\n",
        "print(f\"Output: { Max_Product(nums)}\")\n"
      ],
      "metadata": {
        "colab": {
          "base_uri": "https://localhost:8080/"
        },
        "id": "ZIoPF2CUYvmz",
        "outputId": "45ef2c94-a847-4a07-94c5-3f76bbd47119"
      },
      "execution_count": null,
      "outputs": [
        {
          "output_type": "stream",
          "name": "stdout",
          "text": [
            "Output: 6\n"
          ]
        }
      ]
    },
    {
      "cell_type": "markdown",
      "source": [
        "### QUESTION-6"
      ],
      "metadata": {
        "id": "xMjUM1sYfzi0"
      }
    },
    {
      "cell_type": "code",
      "source": [
        "nums = [-1, 0, 3, 5, 9, 12]\n",
        "target = 9\n",
        "\n",
        "def find(nums, target):\n",
        "    left = 0\n",
        "    right = len(nums) - 1\n",
        "\n",
        "    while left <= right:\n",
        "        mid = (left + right) //2\n",
        "        if nums[mid] == target:\n",
        "            return mid\n",
        "        elif nums[mid] > target:\n",
        "            right = mid - 1\n",
        "        else:\n",
        "            left = mid + 1\n",
        "\n",
        "    return -1\n",
        "\n",
        "print(f\"Output: {find(nums, target)}\")\n"
      ],
      "metadata": {
        "colab": {
          "base_uri": "https://localhost:8080/"
        },
        "id": "MlN0mC7fZAhs",
        "outputId": "9794f721-ca57-4581-e9fd-0b295d8ac461"
      },
      "execution_count": null,
      "outputs": [
        {
          "output_type": "stream",
          "name": "stdout",
          "text": [
            "Output: 4\n"
          ]
        }
      ]
    },
    {
      "cell_type": "markdown",
      "source": [
        "### QUESTION-7"
      ],
      "metadata": {
        "id": "IC3GmIS1f1vr"
      }
    },
    {
      "cell_type": "code",
      "source": [
        "nums = [1, 2, 2, 3]\n",
        "\n",
        "def Monotone(nums):\n",
        "    Inc = True\n",
        "    Dec = True\n",
        "\n",
        "    for i in range(1, len(nums)):\n",
        "        if nums[i] > nums[i-1]:\n",
        "            Dec = False\n",
        "        elif nums[i] < nums[i-1]:\n",
        "            Inc = False\n",
        "\n",
        "    return Inc or Dec\n",
        "\n",
        "print(Monotone(nums))\n"
      ],
      "metadata": {
        "colab": {
          "base_uri": "https://localhost:8080/"
        },
        "id": "LaxoFPBCZlFg",
        "outputId": "df1c5b83-b99a-4594-99db-cbc15f9c5a01"
      },
      "execution_count": null,
      "outputs": [
        {
          "output_type": "stream",
          "name": "stdout",
          "text": [
            "True\n"
          ]
        }
      ]
    },
    {
      "cell_type": "markdown",
      "source": [
        "### QUESTION-8"
      ],
      "metadata": {
        "id": "59oLXeqAf3Ph"
      }
    },
    {
      "cell_type": "code",
      "source": [
        "nums = [1]\n",
        "k=0\n",
        "\n",
        "def Min_Score(nums, k):\n",
        "    return max(nums) - min(nums)\n",
        "\n",
        "print(f\"Output: {Min_Score(nums, k)}\")\n"
      ],
      "metadata": {
        "colab": {
          "base_uri": "https://localhost:8080/"
        },
        "id": "WOP6i55Ga5P8",
        "outputId": "9d549373-437d-4eca-84fa-1a495101644b"
      },
      "execution_count": null,
      "outputs": [
        {
          "output_type": "stream",
          "name": "stdout",
          "text": [
            "Output: 0\n"
          ]
        }
      ]
    },
    {
      "cell_type": "code",
      "source": [],
      "metadata": {
        "id": "7wLGLdxYfgX0"
      },
      "execution_count": null,
      "outputs": []
    }
  ]
}